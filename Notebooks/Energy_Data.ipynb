{
 "cells": [
  {
   "cell_type": "markdown",
   "metadata": {},
   "source": [
    "# Electric Rates by Zipcode - Investor-Owned Utilities\n",
    "\n",
    "## U.S. Dept. of Energy"
   ]
  },
  {
   "cell_type": "code",
   "execution_count": 56,
   "metadata": {},
   "outputs": [
    {
     "name": "stdout",
     "output_type": "stream",
     "text": [
      "Populating the interactive namespace from numpy and matplotlib\n"
     ]
    }
   ],
   "source": [
    "import pandas as pd \n",
    "import numpy as np \n",
    "import pickle \n",
    "from pprint import pprint\n",
    "\n",
    "%pylab inline"
   ]
  },
  {
   "cell_type": "code",
   "execution_count": 3,
   "metadata": {},
   "outputs": [
    {
     "data": {
      "text/html": [
       "<div>\n",
       "<style>\n",
       "    .dataframe thead tr:only-child th {\n",
       "        text-align: right;\n",
       "    }\n",
       "\n",
       "    .dataframe thead th {\n",
       "        text-align: left;\n",
       "    }\n",
       "\n",
       "    .dataframe tbody tr th {\n",
       "        vertical-align: top;\n",
       "    }\n",
       "</style>\n",
       "<table border=\"1\" class=\"dataframe\">\n",
       "  <thead>\n",
       "    <tr style=\"text-align: right;\">\n",
       "      <th></th>\n",
       "      <th>zip</th>\n",
       "      <th>eiaid</th>\n",
       "      <th>utility_name</th>\n",
       "      <th>state</th>\n",
       "      <th>service_type</th>\n",
       "      <th>ownership</th>\n",
       "      <th>comm_rate</th>\n",
       "      <th>ind_rate</th>\n",
       "      <th>res_rate</th>\n",
       "    </tr>\n",
       "  </thead>\n",
       "  <tbody>\n",
       "    <tr>\n",
       "      <th>0</th>\n",
       "      <td>85321</td>\n",
       "      <td>176</td>\n",
       "      <td>Ajo Improvement Co</td>\n",
       "      <td>AZ</td>\n",
       "      <td>Bundled</td>\n",
       "      <td>Investor Owned</td>\n",
       "      <td>0.096925</td>\n",
       "      <td>0.088462</td>\n",
       "      <td>0.101581</td>\n",
       "    </tr>\n",
       "    <tr>\n",
       "      <th>1</th>\n",
       "      <td>35218</td>\n",
       "      <td>195</td>\n",
       "      <td>Alabama Power Co</td>\n",
       "      <td>AL</td>\n",
       "      <td>Bundled</td>\n",
       "      <td>Investor Owned</td>\n",
       "      <td>0.111275</td>\n",
       "      <td>0.061426</td>\n",
       "      <td>0.122035</td>\n",
       "    </tr>\n",
       "    <tr>\n",
       "      <th>2</th>\n",
       "      <td>35219</td>\n",
       "      <td>195</td>\n",
       "      <td>Alabama Power Co</td>\n",
       "      <td>AL</td>\n",
       "      <td>Bundled</td>\n",
       "      <td>Investor Owned</td>\n",
       "      <td>0.111275</td>\n",
       "      <td>0.061426</td>\n",
       "      <td>0.122035</td>\n",
       "    </tr>\n",
       "    <tr>\n",
       "      <th>3</th>\n",
       "      <td>35214</td>\n",
       "      <td>195</td>\n",
       "      <td>Alabama Power Co</td>\n",
       "      <td>AL</td>\n",
       "      <td>Bundled</td>\n",
       "      <td>Investor Owned</td>\n",
       "      <td>0.111275</td>\n",
       "      <td>0.061426</td>\n",
       "      <td>0.122035</td>\n",
       "    </tr>\n",
       "    <tr>\n",
       "      <th>4</th>\n",
       "      <td>35215</td>\n",
       "      <td>195</td>\n",
       "      <td>Alabama Power Co</td>\n",
       "      <td>AL</td>\n",
       "      <td>Bundled</td>\n",
       "      <td>Investor Owned</td>\n",
       "      <td>0.111275</td>\n",
       "      <td>0.061426</td>\n",
       "      <td>0.122035</td>\n",
       "    </tr>\n",
       "  </tbody>\n",
       "</table>\n",
       "</div>"
      ],
      "text/plain": [
       "     zip  eiaid        utility_name state service_type       ownership  \\\n",
       "0  85321    176  Ajo Improvement Co    AZ      Bundled  Investor Owned   \n",
       "1  35218    195    Alabama Power Co    AL      Bundled  Investor Owned   \n",
       "2  35219    195    Alabama Power Co    AL      Bundled  Investor Owned   \n",
       "3  35214    195    Alabama Power Co    AL      Bundled  Investor Owned   \n",
       "4  35215    195    Alabama Power Co    AL      Bundled  Investor Owned   \n",
       "\n",
       "   comm_rate  ind_rate  res_rate  \n",
       "0   0.096925  0.088462  0.101581  \n",
       "1   0.111275  0.061426  0.122035  \n",
       "2   0.111275  0.061426  0.122035  \n",
       "3   0.111275  0.061426  0.122035  \n",
       "4   0.111275  0.061426  0.122035  "
      ]
     },
     "execution_count": 3,
     "metadata": {},
     "output_type": "execute_result"
    }
   ],
   "source": [
    "df = pd.read_csv('iouzipcodes2015 (1).csv', dtype={'zip':'object'})\n",
    "df.head()"
   ]
  },
  {
   "cell_type": "code",
   "execution_count": 8,
   "metadata": {
    "collapsed": true
   },
   "outputs": [],
   "source": [
    "df.rename(columns={'zip':'zipcode'}, inplace=True)"
   ]
  },
  {
   "cell_type": "markdown",
   "metadata": {},
   "source": [
    "# Average Electric Rates per Zipcode"
   ]
  },
  {
   "cell_type": "code",
   "execution_count": 17,
   "metadata": {
    "collapsed": true
   },
   "outputs": [],
   "source": [
    "electric_rates = df.groupby('zipcode')[['comm_rate', 'ind_rate', 'res_rate']].mean().reset_index()"
   ]
  },
  {
   "cell_type": "code",
   "execution_count": 20,
   "metadata": {
    "collapsed": true
   },
   "outputs": [],
   "source": [
    "electric_rates.to_pickle(\"./electric_rates.pkl\")"
   ]
  },
  {
   "cell_type": "code",
   "execution_count": 21,
   "metadata": {
    "collapsed": true
   },
   "outputs": [],
   "source": [
    "electric_rates = pd.read_pickle(\"./electric_rates.pkl\")"
   ]
  },
  {
   "cell_type": "markdown",
   "metadata": {},
   "source": [
    "# Non Investor Owned Utilities"
   ]
  },
  {
   "cell_type": "code",
   "execution_count": 24,
   "metadata": {},
   "outputs": [
    {
     "data": {
      "text/html": [
       "<div>\n",
       "<style>\n",
       "    .dataframe thead tr:only-child th {\n",
       "        text-align: right;\n",
       "    }\n",
       "\n",
       "    .dataframe thead th {\n",
       "        text-align: left;\n",
       "    }\n",
       "\n",
       "    .dataframe tbody tr th {\n",
       "        vertical-align: top;\n",
       "    }\n",
       "</style>\n",
       "<table border=\"1\" class=\"dataframe\">\n",
       "  <thead>\n",
       "    <tr style=\"text-align: right;\">\n",
       "      <th></th>\n",
       "      <th>zip</th>\n",
       "      <th>eiaid</th>\n",
       "      <th>utility_name</th>\n",
       "      <th>state</th>\n",
       "      <th>service_type</th>\n",
       "      <th>ownership</th>\n",
       "      <th>comm_rate</th>\n",
       "      <th>ind_rate</th>\n",
       "      <th>res_rate</th>\n",
       "    </tr>\n",
       "  </thead>\n",
       "  <tbody>\n",
       "    <tr>\n",
       "      <th>0</th>\n",
       "      <td>38858</td>\n",
       "      <td>55</td>\n",
       "      <td>City of Aberdeen - (MS)</td>\n",
       "      <td>MS</td>\n",
       "      <td>Bundled</td>\n",
       "      <td>Municipal</td>\n",
       "      <td>0.108123</td>\n",
       "      <td>0.051382</td>\n",
       "      <td>0.110196</td>\n",
       "    </tr>\n",
       "    <tr>\n",
       "      <th>1</th>\n",
       "      <td>39730</td>\n",
       "      <td>55</td>\n",
       "      <td>City of Aberdeen - (MS)</td>\n",
       "      <td>MS</td>\n",
       "      <td>Bundled</td>\n",
       "      <td>Municipal</td>\n",
       "      <td>0.108123</td>\n",
       "      <td>0.051382</td>\n",
       "      <td>0.110196</td>\n",
       "    </tr>\n",
       "    <tr>\n",
       "      <th>2</th>\n",
       "      <td>70510</td>\n",
       "      <td>59</td>\n",
       "      <td>City of Abbeville - (LA)</td>\n",
       "      <td>LA</td>\n",
       "      <td>Bundled</td>\n",
       "      <td>Municipal</td>\n",
       "      <td>0.110181</td>\n",
       "      <td>0.086184</td>\n",
       "      <td>0.104306</td>\n",
       "    </tr>\n",
       "    <tr>\n",
       "      <th>3</th>\n",
       "      <td>21824</td>\n",
       "      <td>84</td>\n",
       "      <td>A &amp; N Electric Coop</td>\n",
       "      <td>MD</td>\n",
       "      <td>Bundled</td>\n",
       "      <td>Cooperative</td>\n",
       "      <td>0.129740</td>\n",
       "      <td>0.000000</td>\n",
       "      <td>0.123743</td>\n",
       "    </tr>\n",
       "    <tr>\n",
       "      <th>4</th>\n",
       "      <td>21851</td>\n",
       "      <td>84</td>\n",
       "      <td>A &amp; N Electric Coop</td>\n",
       "      <td>MD</td>\n",
       "      <td>Bundled</td>\n",
       "      <td>Cooperative</td>\n",
       "      <td>0.129740</td>\n",
       "      <td>0.000000</td>\n",
       "      <td>0.123743</td>\n",
       "    </tr>\n",
       "  </tbody>\n",
       "</table>\n",
       "</div>"
      ],
      "text/plain": [
       "     zip  eiaid              utility_name state service_type    ownership  \\\n",
       "0  38858     55   City of Aberdeen - (MS)    MS      Bundled    Municipal   \n",
       "1  39730     55   City of Aberdeen - (MS)    MS      Bundled    Municipal   \n",
       "2  70510     59  City of Abbeville - (LA)    LA      Bundled    Municipal   \n",
       "3  21824     84       A & N Electric Coop    MD      Bundled  Cooperative   \n",
       "4  21851     84       A & N Electric Coop    MD      Bundled  Cooperative   \n",
       "\n",
       "   comm_rate  ind_rate  res_rate  \n",
       "0   0.108123  0.051382  0.110196  \n",
       "1   0.108123  0.051382  0.110196  \n",
       "2   0.110181  0.086184  0.104306  \n",
       "3   0.129740  0.000000  0.123743  \n",
       "4   0.129740  0.000000  0.123743  "
      ]
     },
     "execution_count": 24,
     "metadata": {},
     "output_type": "execute_result"
    }
   ],
   "source": [
    "df_noniou = pd.read_csv('noniouzipcodes2015.csv', dtype={'zip':'object'})\n",
    "df_noniou.head()"
   ]
  },
  {
   "cell_type": "code",
   "execution_count": 28,
   "metadata": {},
   "outputs": [],
   "source": [
    "df_noniou.rename(columns={'zip':'zipcode'}, inplace=True)\n",
    "noniou_rates = df_noniou.groupby('zipcode')[['comm_rate', 'ind_rate', 'res_rate']].mean().reset_index()"
   ]
  },
  {
   "cell_type": "code",
   "execution_count": 30,
   "metadata": {},
   "outputs": [],
   "source": [
    "pd.to_pickle(noniou_rates, './noniou_rates.pkl')"
   ]
  },
  {
   "cell_type": "code",
   "execution_count": 31,
   "metadata": {},
   "outputs": [
    {
     "data": {
      "text/plain": [
       "(21881, 4)"
      ]
     },
     "execution_count": 31,
     "metadata": {},
     "output_type": "execute_result"
    }
   ],
   "source": [
    "noniou_rates.shape"
   ]
  },
  {
   "cell_type": "markdown",
   "metadata": {},
   "source": [
    "# State Level Residential Electricity Consumption \n",
    "\n",
    "Data From U.S. Energy Information Administration - 2015 Rates"
   ]
  },
  {
   "cell_type": "code",
   "execution_count": 39,
   "metadata": {},
   "outputs": [],
   "source": [
    "usage = pd.DataFrame({'state':['CA', 'NY', 'MA', 'AZ', 'CT', 'MD', \n",
    "                                  'NH', 'TX', 'NV', 'WI', 'NM', 'OR', \n",
    "                                  'DE', 'MN', 'FL', 'UT', 'IL'], \n",
    "                         'avg_monthly_consumption_res':[557, 601, 602, 1028, 731, 1012, \n",
    "                                                   621, 1176, 913, 668, 635, 902, 977,\n",
    "                                                   762, 1141, 744, 719],\n",
    "                     'avg_monthly_consumption_comm':[5852, 6082, 5364, 7753, 7082, 10019,\n",
    "                                                    3536, 7968, 4992, 5640, 5208, 5827, \n",
    "                                                    6661, 6743, 6750, 7979, 6952]})"
   ]
  },
  {
   "cell_type": "code",
   "execution_count": 41,
   "metadata": {},
   "outputs": [],
   "source": [
    "pd.to_pickle(usage, './electricity_usage.pkl')"
   ]
  },
  {
   "cell_type": "markdown",
   "metadata": {},
   "source": [
    "# Get the Zip Codes We Need"
   ]
  },
  {
   "cell_type": "code",
   "execution_count": 205,
   "metadata": {},
   "outputs": [],
   "source": [
    "df_finances = pd.read_pickle('./finances.pkl')"
   ]
  },
  {
   "cell_type": "code",
   "execution_count": 208,
   "metadata": {
    "scrolled": true
   },
   "outputs": [
    {
     "data": {
      "text/html": [
       "<div>\n",
       "<style>\n",
       "    .dataframe thead tr:only-child th {\n",
       "        text-align: right;\n",
       "    }\n",
       "\n",
       "    .dataframe thead th {\n",
       "        text-align: left;\n",
       "    }\n",
       "\n",
       "    .dataframe tbody tr th {\n",
       "        vertical-align: top;\n",
       "    }\n",
       "</style>\n",
       "<table border=\"1\" class=\"dataframe\">\n",
       "  <thead>\n",
       "    <tr style=\"text-align: right;\">\n",
       "      <th></th>\n",
       "      <th>Actual</th>\n",
       "      <th>Predicted</th>\n",
       "      <th>Residual</th>\n",
       "      <th>zipcode</th>\n",
       "      <th>latitude</th>\n",
       "      <th>longitude</th>\n",
       "      <th>Expected_annual_pv_prod_median</th>\n",
       "      <th>Size_System_median_kw</th>\n",
       "      <th>state</th>\n",
       "      <th>res_rate</th>\n",
       "      <th>avg_monthly_consumption_res</th>\n",
       "      <th>avg_annual_consumption_res</th>\n",
       "      <th>Residential_Payback_Time</th>\n",
       "      <th>Annual_Energy_Value_res</th>\n",
       "      <th>yearly_electric_bill_no_solar</th>\n",
       "      <th>Savings_25_years</th>\n",
       "      <th>median_solar_insolation</th>\n",
       "      <th>County</th>\n",
       "    </tr>\n",
       "  </thead>\n",
       "  <tbody>\n",
       "    <tr>\n",
       "      <th>0</th>\n",
       "      <td>32187.000</td>\n",
       "      <td>34823.748660</td>\n",
       "      <td>-2636.748660</td>\n",
       "      <td>01001</td>\n",
       "      <td>42.062368</td>\n",
       "      <td>-72.625754</td>\n",
       "      <td>8583.645</td>\n",
       "      <td>7.42</td>\n",
       "      <td>MA</td>\n",
       "      <td>0.145852</td>\n",
       "      <td>602</td>\n",
       "      <td>7224</td>\n",
       "      <td>33.051033</td>\n",
       "      <td>1251.942811</td>\n",
       "      <td>1053.635707</td>\n",
       "      <td>31298.570284</td>\n",
       "      <td>4.24</td>\n",
       "      <td>Hampden</td>\n",
       "    </tr>\n",
       "    <tr>\n",
       "      <th>1</th>\n",
       "      <td>30155.240</td>\n",
       "      <td>31275.459039</td>\n",
       "      <td>-1120.219039</td>\n",
       "      <td>01002</td>\n",
       "      <td>42.364061</td>\n",
       "      <td>-72.458739</td>\n",
       "      <td>7558.890</td>\n",
       "      <td>6.24</td>\n",
       "      <td>MA</td>\n",
       "      <td>0.142541</td>\n",
       "      <td>602</td>\n",
       "      <td>7224</td>\n",
       "      <td>30.372911</td>\n",
       "      <td>1077.451099</td>\n",
       "      <td>1029.715572</td>\n",
       "      <td>26936.277474</td>\n",
       "      <td>4.26</td>\n",
       "      <td>Hampshire</td>\n",
       "    </tr>\n",
       "    <tr>\n",
       "      <th>2</th>\n",
       "      <td>28370.090</td>\n",
       "      <td>34853.454835</td>\n",
       "      <td>-6483.364835</td>\n",
       "      <td>01005</td>\n",
       "      <td>42.418848</td>\n",
       "      <td>-72.106598</td>\n",
       "      <td>8487.920</td>\n",
       "      <td>7.20</td>\n",
       "      <td>MA</td>\n",
       "      <td>0.139230</td>\n",
       "      <td>602</td>\n",
       "      <td>7224</td>\n",
       "      <td>34.652628</td>\n",
       "      <td>1181.770654</td>\n",
       "      <td>1005.795437</td>\n",
       "      <td>29544.266342</td>\n",
       "      <td>4.39</td>\n",
       "      <td>Worcester</td>\n",
       "    </tr>\n",
       "    <tr>\n",
       "      <th>3</th>\n",
       "      <td>35844.380</td>\n",
       "      <td>34799.153138</td>\n",
       "      <td>1045.226862</td>\n",
       "      <td>01007</td>\n",
       "      <td>42.279010</td>\n",
       "      <td>-72.400468</td>\n",
       "      <td>8932.550</td>\n",
       "      <td>7.29</td>\n",
       "      <td>MA</td>\n",
       "      <td>0.142541</td>\n",
       "      <td>602</td>\n",
       "      <td>7224</td>\n",
       "      <td>33.794918</td>\n",
       "      <td>1273.253853</td>\n",
       "      <td>1029.715572</td>\n",
       "      <td>31831.346316</td>\n",
       "      <td>4.27</td>\n",
       "      <td>Hampshire</td>\n",
       "    </tr>\n",
       "    <tr>\n",
       "      <th>4</th>\n",
       "      <td>41132.255</td>\n",
       "      <td>43497.015054</td>\n",
       "      <td>-2364.760054</td>\n",
       "      <td>01008</td>\n",
       "      <td>42.190144</td>\n",
       "      <td>-72.954350</td>\n",
       "      <td>11288.130</td>\n",
       "      <td>9.11</td>\n",
       "      <td>MA</td>\n",
       "      <td>0.145852</td>\n",
       "      <td>602</td>\n",
       "      <td>7224</td>\n",
       "      <td>41.282784</td>\n",
       "      <td>1646.397679</td>\n",
       "      <td>1053.635707</td>\n",
       "      <td>41159.941980</td>\n",
       "      <td>4.15</td>\n",
       "      <td>Hampden</td>\n",
       "    </tr>\n",
       "  </tbody>\n",
       "</table>\n",
       "</div>"
      ],
      "text/plain": [
       "      Actual     Predicted     Residual zipcode   latitude  longitude  \\\n",
       "0  32187.000  34823.748660 -2636.748660   01001  42.062368 -72.625754   \n",
       "1  30155.240  31275.459039 -1120.219039   01002  42.364061 -72.458739   \n",
       "2  28370.090  34853.454835 -6483.364835   01005  42.418848 -72.106598   \n",
       "3  35844.380  34799.153138  1045.226862   01007  42.279010 -72.400468   \n",
       "4  41132.255  43497.015054 -2364.760054   01008  42.190144 -72.954350   \n",
       "\n",
       "   Expected_annual_pv_prod_median  Size_System_median_kw state  res_rate  \\\n",
       "0                        8583.645                   7.42    MA  0.145852   \n",
       "1                        7558.890                   6.24    MA  0.142541   \n",
       "2                        8487.920                   7.20    MA  0.139230   \n",
       "3                        8932.550                   7.29    MA  0.142541   \n",
       "4                       11288.130                   9.11    MA  0.145852   \n",
       "\n",
       "   avg_monthly_consumption_res  avg_annual_consumption_res  \\\n",
       "0                          602                        7224   \n",
       "1                          602                        7224   \n",
       "2                          602                        7224   \n",
       "3                          602                        7224   \n",
       "4                          602                        7224   \n",
       "\n",
       "   Residential_Payback_Time  Annual_Energy_Value_res  \\\n",
       "0                 33.051033              1251.942811   \n",
       "1                 30.372911              1077.451099   \n",
       "2                 34.652628              1181.770654   \n",
       "3                 33.794918              1273.253853   \n",
       "4                 41.282784              1646.397679   \n",
       "\n",
       "   yearly_electric_bill_no_solar  Savings_25_years  median_solar_insolation  \\\n",
       "0                    1053.635707      31298.570284                     4.24   \n",
       "1                    1029.715572      26936.277474                     4.26   \n",
       "2                    1005.795437      29544.266342                     4.39   \n",
       "3                    1029.715572      31831.346316                     4.27   \n",
       "4                    1053.635707      41159.941980                     4.15   \n",
       "\n",
       "      County  \n",
       "0    Hampden  \n",
       "1  Hampshire  \n",
       "2  Worcester  \n",
       "3  Hampshire  \n",
       "4    Hampden  "
      ]
     },
     "execution_count": 208,
     "metadata": {},
     "output_type": "execute_result"
    }
   ],
   "source": [
    "df_finances.head()"
   ]
  },
  {
   "cell_type": "code",
   "execution_count": 209,
   "metadata": {
    "collapsed": true
   },
   "outputs": [],
   "source": [
    "zips_to_use = df_finances.zipcode.tolist()"
   ]
  },
  {
   "cell_type": "markdown",
   "metadata": {},
   "source": [
    "# Scraping Project Sunroof with Selenium"
   ]
  },
  {
   "cell_type": "code",
   "execution_count": 243,
   "metadata": {
    "collapsed": true
   },
   "outputs": [],
   "source": [
    "from selenium import webdriver\n",
    "from selenium.webdriver.chrome.options import Options\n",
    "from selenium.webdriver.common.keys import Keys\n",
    "import time\n",
    "import os\n",
    "import re\n",
    "from bs4 import BeautifulSoup\n",
    "import requests\n",
    "from selenium.webdriver.support.ui import Select\n",
    "from selenium.common.exceptions import NoSuchElementException"
   ]
  },
  {
   "cell_type": "code",
   "execution_count": 247,
   "metadata": {
    "collapsed": true
   },
   "outputs": [],
   "source": [
    "CHROME_PATH = \"/Applications/Google Chrome.app\"\n",
    "chrome_options = Options()\n",
    "chrome_options.add_argument(\"--headless\")"
   ]
  },
  {
   "cell_type": "code",
   "execution_count": 105,
   "metadata": {
    "collapsed": true
   },
   "outputs": [],
   "source": [
    "chromedriver = \"/Applications/chromedriver\"\n",
    "os.environ[\"webdriver.chrome.driver\"] = chromedriver"
   ]
  },
  {
   "cell_type": "code",
   "execution_count": 230,
   "metadata": {
    "collapsed": true
   },
   "outputs": [],
   "source": [
    "driver = webdriver.Chrome(chromedriver)\n",
    "driver.get(\"https://www.google.com/get/sunroof/data-explorer/\")"
   ]
  },
  {
   "cell_type": "code",
   "execution_count": 292,
   "metadata": {
    "scrolled": true
   },
   "outputs": [],
   "source": [
    "total = {}\n",
    "os.environ[\"webdriver.chrome.driver\"] = chromedriver\n",
    "driver = webdriver.Chrome(chromedriver, chrome_options=chrome_options)\n",
    "driver.get(\"https://www.google.com/get/sunroof/data-explorer/\")\n",
    "for zipcode in third_round_zipcodes:\n",
    "    try:\n",
    "        input_form = driver.find_element_by_id(\"input-2\")\n",
    "        input_form.send_keys(zipcode) #Enter Zip Code\n",
    "        time.sleep(2)   \n",
    "        input_form.send_keys(Keys.RETURN) #Submit Form\n",
    "        time.sleep(2)\n",
    "    except NoSuchElementException:\n",
    "        time.sleep(2)\n",
    "        print(f\"No Information available for {zipcode} zip code.\")\n",
    "        driver.get(\"https://www.google.com/get/sunroof/data-explorer/\")\n",
    "        input_form = driver.find_element_by_id(\"input-2\")\n",
    "        input_form.send_keys(zipcode) #Enter Zip Code\n",
    "        time.sleep(2)   \n",
    "        input_form.send_keys(Keys.RETURN) #Submit Form\n",
    "        time.sleep(2)\n",
    "    \n",
    "    content = driver.find_elements_by_class_name(\"place-metrics-cell-value\")\n",
    "    print(f\"Solar Information: {len(content)}\")\n",
    "    solar_numbers = [att.text for att in content]\n",
    "    time.sleep(1)\n",
    "    incentives = driver.find_elements_by_class_name(\"incentive-name\")\n",
    "    print(f\"Number of Tax Incentives: {len(incentives)}\")\n",
    "    incentive_info = [att.text for att in incentives]\n",
    "    \n",
    "    print(f\"Finished with zipcode {zipcode} page.\")\n",
    "    \n",
    "    zipcode_information = {\"Solar_Numbers\": solar_numbers, \n",
    "                           \"Tax_Credit_Info\": incentive_info}\n",
    "    \n",
    "    total[zipcode] = zipcode_information\n",
    "    driver.execute_script(\"window.history.go(-1)\")"
   ]
  },
  {
   "cell_type": "code",
   "execution_count": 288,
   "metadata": {},
   "outputs": [
    {
     "name": "stdout",
     "output_type": "stream",
     "text": [
      "487\n"
     ]
    }
   ],
   "source": [
    "print(len(total))"
   ]
  },
  {
   "cell_type": "markdown",
   "metadata": {},
   "source": [
    "### Combine 3 Separate Dictionaries into 1 Dict with all Project Sunroof Info\n",
    "#### Convert to Pandas DataFrame"
   ]
  },
  {
   "cell_type": "code",
   "execution_count": 289,
   "metadata": {
    "collapsed": true
   },
   "outputs": [],
   "source": [
    "# third_set_zipcodes = total"
   ]
  },
  {
   "cell_type": "code",
   "execution_count": 254,
   "metadata": {},
   "outputs": [],
   "source": [
    "# first_set_zipcodes = total"
   ]
  },
  {
   "cell_type": "code",
   "execution_count": 277,
   "metadata": {
    "collapsed": true
   },
   "outputs": [],
   "source": [
    "# second_set_zipcodes = total"
   ]
  },
  {
   "cell_type": "code",
   "execution_count": 279,
   "metadata": {
    "scrolled": true
   },
   "outputs": [
    {
     "data": {
      "text/plain": [
       "1186"
      ]
     },
     "execution_count": 279,
     "metadata": {},
     "output_type": "execute_result"
    }
   ],
   "source": [
    "len(first_set_zipcodes)"
   ]
  },
  {
   "cell_type": "code",
   "execution_count": 280,
   "metadata": {},
   "outputs": [
    {
     "data": {
      "text/plain": [
       "2012"
      ]
     },
     "execution_count": 280,
     "metadata": {},
     "output_type": "execute_result"
    }
   ],
   "source": [
    "len(second_set_zipcodes)"
   ]
  },
  {
   "cell_type": "code",
   "execution_count": 291,
   "metadata": {},
   "outputs": [
    {
     "data": {
      "text/plain": [
       "487"
      ]
     },
     "execution_count": 291,
     "metadata": {},
     "output_type": "execute_result"
    }
   ],
   "source": [
    "len(third_set_zipcodes)"
   ]
  },
  {
   "cell_type": "code",
   "execution_count": 263,
   "metadata": {},
   "outputs": [],
   "source": [
    "#completed_zips = [k for k, v in first_set_zipcodes.items()]"
   ]
  },
  {
   "cell_type": "code",
   "execution_count": 273,
   "metadata": {},
   "outputs": [],
   "source": [
    "#second_round_zipcodes = [i for i in zips_to_use if i not in completed_zips]"
   ]
  },
  {
   "cell_type": "code",
   "execution_count": 282,
   "metadata": {},
   "outputs": [],
   "source": [
    "second_completed_zips = [k for k, v in second_set_zipcodes.items()]"
   ]
  },
  {
   "cell_type": "code",
   "execution_count": 284,
   "metadata": {
    "collapsed": true
   },
   "outputs": [],
   "source": [
    "third_round_zipcodes = [i for i in second_round_zipcodes if i not in second_completed_zips]"
   ]
  },
  {
   "cell_type": "code",
   "execution_count": 296,
   "metadata": {},
   "outputs": [],
   "source": [
    "d_all_solar_info = {}\n",
    "d_all_solar_info.update(first_set_zipcodes)\n",
    "d_all_solar_info.update(second_set_zipcodes)\n",
    "d_all_solar_info.update(third_set_zipcodes)"
   ]
  },
  {
   "cell_type": "markdown",
   "metadata": {},
   "source": [
    "## Pandas "
   ]
  },
  {
   "cell_type": "code",
   "execution_count": 442,
   "metadata": {},
   "outputs": [],
   "source": [
    "df_solar = pd.DataFrame.from_dict(d_all_solar_info, orient='index')"
   ]
  },
  {
   "cell_type": "code",
   "execution_count": 444,
   "metadata": {},
   "outputs": [],
   "source": [
    "df_solar.rename(columns={'Tax_Credit_Info':'Solar_Incentives'}, inplace=True)\n",
    "df_solar['Solar_Incentives'] = df_solar.Solar_Incentives.astype('str')\n",
    "df_solar['Solar_Incentives'].replace(\"'SOLAR INCENTIVES',\", '', regex=True, inplace=True)\n",
    "df_solar.Solar_Incentives.replace(r\"\\[|\\]|\\'\", '', regex=True, inplace=True)"
   ]
  },
  {
   "cell_type": "code",
   "execution_count": 447,
   "metadata": {
    "scrolled": true
   },
   "outputs": [],
   "source": [
    "pd.set_option('max_colwidth', 100)"
   ]
  },
  {
   "cell_type": "code",
   "execution_count": 448,
   "metadata": {},
   "outputs": [],
   "source": [
    "df_solar.replace(\"\", np.nan, inplace=True)\n",
    "df_solar.reset_index(inplace=True)\n",
    "df_solar.rename(columns={'index':'zipcode'}, inplace=True)"
   ]
  },
  {
   "cell_type": "markdown",
   "metadata": {},
   "source": [
    "Solar Numbers  \n",
    "0. Number of existing Solar Installations (If available)\n",
    "1. Percentage of Viable Solar Roofs\n",
    "2. Total number of roofs that are Solar Viable\n",
    "3. Total Sq. Footage of Roof Space\n",
    "4. Total Solar Electrical Capacity in MegaWatts (DC)\n",
    "5. Total Solar Electrical Production in MWh (AC) per Year\n",
    "6. Roof Space Per Roof - Square Footage\n",
    "7. Capacity Per Roof - kW (DC)\n",
    "8. Solar Electricity Production per roof - kWh (AC) per Year\n",
    "\n",
    "If All Viable Solar installations were implemented   \n",
    "\n",
    "9. Amount of avoided CO2 emissions from electricity sector in metric tons\n",
    "10. Number of Passenger Cars taken off the road for one year  \n",
    "11. Number of tree seedlings grown in a ten year span\n"
   ]
  },
  {
   "cell_type": "code",
   "execution_count": 458,
   "metadata": {},
   "outputs": [],
   "source": [
    "# Remove first element in list for entire Series \n",
    "for index, value in df_solar['Solar_Numbers'].iteritems():\n",
    "    if len(value) > 0:\n",
    "        del value[0]"
   ]
  },
  {
   "cell_type": "code",
   "execution_count": 461,
   "metadata": {},
   "outputs": [],
   "source": [
    "#Insert nan at first position in list\n",
    "for index, value in df_solar['Solar_Numbers'].iteritems():\n",
    "    if len(value) == 11:\n",
    "        value.insert(0, np.nan)"
   ]
  },
  {
   "cell_type": "code",
   "execution_count": 463,
   "metadata": {},
   "outputs": [],
   "source": [
    "tags = df_solar['Solar_Numbers'].apply(pd.Series)"
   ]
  },
  {
   "cell_type": "code",
   "execution_count": 467,
   "metadata": {},
   "outputs": [],
   "source": [
    "tags.rename(columns={0:'existing_solars', 1:'viable_solar_roofs', 2:'total_viable_roofs',\n",
    "                     3:'total_sq_foot_roof', 4:'total_capacity', 5:'total_production', \n",
    "                    6:'roof_space_per_roof', 7:'capacity_per_roof', 8:'production_per_roof', \n",
    "                    9:'avoided_CO2', 10:'cars', 12:'trees'}, inplace=True)"
   ]
  },
  {
   "cell_type": "code",
   "execution_count": 471,
   "metadata": {},
   "outputs": [],
   "source": [
    "df_solar = pd.concat([df_solar, tags], axis=1)"
   ]
  },
  {
   "cell_type": "code",
   "execution_count": 473,
   "metadata": {},
   "outputs": [],
   "source": [
    "del df_solar['Solar_Numbers']"
   ]
  },
  {
   "cell_type": "code",
   "execution_count": 477,
   "metadata": {},
   "outputs": [],
   "source": [
    "df_solar.rename(columns={11:'Trees'}, inplace=True)"
   ]
  },
  {
   "cell_type": "code",
   "execution_count": 479,
   "metadata": {},
   "outputs": [],
   "source": [
    "pd.to_pickle(df_solar, './solar_numbers.pkl')"
   ]
  },
  {
   "cell_type": "code",
   "execution_count": null,
   "metadata": {
    "collapsed": true
   },
   "outputs": [],
   "source": []
  }
 ],
 "metadata": {
  "kernelspec": {
   "display_name": "Python 3",
   "language": "python",
   "name": "python3"
  },
  "language_info": {
   "codemirror_mode": {
    "name": "ipython",
    "version": 3
   },
   "file_extension": ".py",
   "mimetype": "text/x-python",
   "name": "python",
   "nbconvert_exporter": "python",
   "pygments_lexer": "ipython3",
   "version": "3.6.4"
  }
 },
 "nbformat": 4,
 "nbformat_minor": 2
}

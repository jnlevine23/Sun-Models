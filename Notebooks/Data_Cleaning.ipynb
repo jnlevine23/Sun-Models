{
 "cells": [
  {
   "cell_type": "markdown",
   "metadata": {},
   "source": [
    "# Further Data Cleaning \n",
    "\n",
    "#### OpenPV Dataset"
   ]
  },
  {
   "cell_type": "code",
   "execution_count": 29,
   "metadata": {},
   "outputs": [
    {
     "name": "stdout",
     "output_type": "stream",
     "text": [
      "Populating the interactive namespace from numpy and matplotlib\n"
     ]
    },
    {
     "name": "stderr",
     "output_type": "stream",
     "text": [
      "/home/ubuntu/miniconda3/lib/python3.6/site-packages/IPython/core/magics/pylab.py:160: UserWarning: pylab import has clobbered these variables: ['f']\n",
      "`%matplotlib` prevents importing * from pylab and numpy\n",
      "  \"\\n`%matplotlib` prevents importing * from pylab and numpy\"\n"
     ]
    }
   ],
   "source": [
    "import pandas as pd \n",
    "import numpy as np \n",
    "import seaborn as sns\n",
    "import pickle\n",
    "import fancyimpute\n",
    "from pprint import pprint\n",
    "from sklearn.preprocessing import Imputer\n",
    "from sklearn.linear_model import LinearRegression\n",
    "from sklearn.model_selection import train_test_split, cross_validate\n",
    "pd.set_option(\"max_columns\", 100)\n",
    "\n",
    "%pylab inline"
   ]
  },
  {
   "cell_type": "code",
   "execution_count": 30,
   "metadata": {},
   "outputs": [],
   "source": [
    "sns.set_style('darkgrid')"
   ]
  },
  {
   "cell_type": "code",
   "execution_count": 31,
   "metadata": {},
   "outputs": [],
   "source": [
    "with open(\"pv_data.pkl\", \"rb\") as f:\n",
    "    df = pickle.load(f)"
   ]
  },
  {
   "cell_type": "code",
   "execution_count": 32,
   "metadata": {},
   "outputs": [],
   "source": [
    "df.drop(['tech_1', 'model1_clean'], axis=1, inplace=True)"
   ]
  },
  {
   "cell_type": "code",
   "execution_count": 33,
   "metadata": {},
   "outputs": [
    {
     "data": {
      "text/plain": [
       "11780"
      ]
     },
     "execution_count": 33,
     "metadata": {},
     "output_type": "execute_result"
    }
   ],
   "source": [
    "df.zipcode.nunique()"
   ]
  },
  {
   "cell_type": "code",
   "execution_count": 34,
   "metadata": {
    "scrolled": true
   },
   "outputs": [],
   "source": [
    "# list(zip(df.groupby(\"state\")['date_installed'].count(), df.groupby(\"state\")['annual_PV_prod'].count()))"
   ]
  },
  {
   "cell_type": "code",
   "execution_count": 35,
   "metadata": {},
   "outputs": [
    {
     "data": {
      "text/plain": [
       "8327.2"
      ]
     },
     "execution_count": 35,
     "metadata": {},
     "output_type": "execute_result"
    }
   ],
   "source": [
    "df.annual_PV_prod.median()"
   ]
  },
  {
   "cell_type": "code",
   "execution_count": 36,
   "metadata": {},
   "outputs": [
    {
     "data": {
      "text/plain": [
       "(742808, 37)"
      ]
     },
     "execution_count": 36,
     "metadata": {},
     "output_type": "execute_result"
    }
   ],
   "source": [
    "df.shape"
   ]
  },
  {
   "cell_type": "code",
   "execution_count": 37,
   "metadata": {
    "scrolled": true
   },
   "outputs": [],
   "source": [
    "# df.groupby('state')[['annual_PV_prod', 'annual_insolation']].median()"
   ]
  },
  {
   "cell_type": "code",
   "execution_count": 38,
   "metadata": {},
   "outputs": [],
   "source": [
    "def adjust_inflation(amount, start_year, end_year):\n",
    "    '''\n",
    "    Returns the amount in dollars when adjusting\n",
    "    for inflation from start_year to end_year.\n",
    "    Amount must be an integer of float. \n",
    "    Start_year and end_year inputs must be strings.\n",
    "    '''\n",
    "    cpi_dict={\n",
    "     '1980': '78.0',\n",
    "     '1981': '87.2',\n",
    "     '1982': '94.4',\n",
    "     '1983': '97.9',\n",
    "     '1984': '102.1',\n",
    "     '1985': '105.7',\n",
    "     '1986': '109.9',\n",
    "     '1987': '111.4',\n",
    "     '1988': '116.0',\n",
    "     '1989': '121.2',\n",
    "     '1990': '127.5',\n",
    "     '1991': '134.7',\n",
    "     '1992': '138.3',\n",
    "     '1993': '142.8',\n",
    "     '1994': '146.3',\n",
    "     '1995': '150.5',\n",
    "     '1996': '154.7',\n",
    "     '1997': '159.4',\n",
    "     '1998': '162.0',\n",
    "     '1999': '164.7',\n",
    "     '2000': '169.3',\n",
    "     '2001': '175.6',\n",
    "     '2002': '177.7',\n",
    "     '2003': '182.600',\n",
    "     '2004': '186.300',\n",
    "     '2005': '191.600',\n",
    "     '2006': '199.300',\n",
    "     '2007': '203.437',\n",
    "     '2008': '212.174',\n",
    "     '2009': '211.933',\n",
    "     '2010': '217.488',\n",
    "     '2011': '221.187',\n",
    "     '2012': '227.842',\n",
    "     '2013': '231.679',\n",
    "     '2014': '235.347',\n",
    "     '2015': '234.836',\n",
    "     '2016': '237.990',\n",
    "     '2017': '244.028',\n",
    "     '2018': '249.245'}\n",
    "\n",
    "    return float(\"{0:.2f}\".format(amount*(float(cpi_dict[end_year])/float(cpi_dict[start_year]))))"
   ]
  },
  {
   "cell_type": "code",
   "execution_count": 39,
   "metadata": {},
   "outputs": [
    {
     "data": {
      "text/plain": [
       "1278.18"
      ]
     },
     "execution_count": 39,
     "metadata": {},
     "output_type": "execute_result"
    }
   ],
   "source": [
    "adjust_inflation(400, '1980', '2018')"
   ]
  },
  {
   "cell_type": "code",
   "execution_count": 40,
   "metadata": {},
   "outputs": [
    {
     "name": "stderr",
     "output_type": "stream",
     "text": [
      "/home/ubuntu/miniconda3/lib/python3.6/site-packages/ipykernel_launcher.py:2: SettingWithCopyWarning: \n",
      "A value is trying to be set on a copy of a slice from a DataFrame.\n",
      "Try using .loc[row_indexer,col_indexer] = value instead\n",
      "\n",
      "See the caveats in the documentation: http://pandas.pydata.org/pandas-docs/stable/indexing.html#indexing-view-versus-copy\n",
      "  \n",
      "/home/ubuntu/miniconda3/lib/python3.6/site-packages/ipykernel_launcher.py:3: SettingWithCopyWarning: \n",
      "A value is trying to be set on a copy of a slice from a DataFrame.\n",
      "Try using .loc[row_indexer,col_indexer] = value instead\n",
      "\n",
      "See the caveats in the documentation: http://pandas.pydata.org/pandas-docs/stable/indexing.html#indexing-view-versus-copy\n",
      "  This is separate from the ipykernel package so we can avoid doing imports until\n"
     ]
    }
   ],
   "source": [
    "cost_df = df[['cost', 'year']]\n",
    "cost_df['end_year'] = '2018'\n",
    "cost_df['year'] = cost_df['year'].astype('str')"
   ]
  },
  {
   "cell_type": "code",
   "execution_count": 41,
   "metadata": {},
   "outputs": [],
   "source": [
    "adj_cost = []\n",
    "for cost, year, end_year in list(zip(cost_df.cost, cost_df.year, cost_df.end_year)):\n",
    "    adj_cost.append(adjust_inflation(cost, year, end_year))"
   ]
  },
  {
   "cell_type": "code",
   "execution_count": 42,
   "metadata": {},
   "outputs": [],
   "source": [
    "df['adjusted_cost'] = pd.Series(adj_cost)"
   ]
  },
  {
   "cell_type": "code",
   "execution_count": 43,
   "metadata": {},
   "outputs": [
    {
     "name": "stderr",
     "output_type": "stream",
     "text": [
      "/home/ubuntu/miniconda3/lib/python3.6/site-packages/ipykernel_launcher.py:2: SettingWithCopyWarning: \n",
      "A value is trying to be set on a copy of a slice from a DataFrame.\n",
      "Try using .loc[row_indexer,col_indexer] = value instead\n",
      "\n",
      "See the caveats in the documentation: http://pandas.pydata.org/pandas-docs/stable/indexing.html#indexing-view-versus-copy\n",
      "  \n",
      "/home/ubuntu/miniconda3/lib/python3.6/site-packages/ipykernel_launcher.py:3: SettingWithCopyWarning: \n",
      "A value is trying to be set on a copy of a slice from a DataFrame.\n",
      "Try using .loc[row_indexer,col_indexer] = value instead\n",
      "\n",
      "See the caveats in the documentation: http://pandas.pydata.org/pandas-docs/stable/indexing.html#indexing-view-versus-copy\n",
      "  This is separate from the ipykernel package so we can avoid doing imports until\n"
     ]
    }
   ],
   "source": [
    "costperw_df = df[['cost_per_watt', 'year']]\n",
    "costperw_df['end_year'] = '2018'\n",
    "costperw_df['year'] = cost_df['year'].astype('str')"
   ]
  },
  {
   "cell_type": "code",
   "execution_count": 44,
   "metadata": {},
   "outputs": [],
   "source": [
    "adj_cost_per_watt = []\n",
    "for cost_per_watt, year, end_year in list(zip(costperw_df.cost_per_watt, costperw_df.year, costperw_df.end_year)):\n",
    "    adj_cost_per_watt.append(adjust_inflation(cost_per_watt, year, end_year))"
   ]
  },
  {
   "cell_type": "code",
   "execution_count": 45,
   "metadata": {},
   "outputs": [],
   "source": [
    "df['adj_cost_per_watt'] = pd.Series(adj_cost_per_watt)"
   ]
  },
  {
   "cell_type": "code",
   "execution_count": 46,
   "metadata": {},
   "outputs": [
    {
     "data": {
      "text/plain": [
       "['state',\n",
       " 'date_installed',\n",
       " 'incentive_prog_names',\n",
       " 'type',\n",
       " 'size_kw',\n",
       " 'zipcode',\n",
       " 'install_type',\n",
       " 'installer',\n",
       " 'cost_per_watt',\n",
       " 'cost',\n",
       " 'lbnl_tts',\n",
       " 'city',\n",
       " 'utility_clean',\n",
       " 'county',\n",
       " 'annual_PV_prod',\n",
       " 'annual_insolation',\n",
       " 'rebate',\n",
       " 'sales_tax_cost',\n",
       " 'Agricultural',\n",
       " 'Commercial',\n",
       " 'Educational',\n",
       " 'Government',\n",
       " 'Nonprofit',\n",
       " 'Utility',\n",
       " 'month',\n",
       " 'year',\n",
       " 1,\n",
       " 2,\n",
       " 3,\n",
       " 4,\n",
       " 5,\n",
       " 6,\n",
       " 7,\n",
       " 8,\n",
       " 9,\n",
       " 10,\n",
       " 11,\n",
       " 'adjusted_cost',\n",
       " 'adj_cost_per_watt']"
      ]
     },
     "execution_count": 46,
     "metadata": {},
     "output_type": "execute_result"
    }
   ],
   "source": [
    "df.columns.tolist()"
   ]
  },
  {
   "cell_type": "code",
   "execution_count": 47,
   "metadata": {},
   "outputs": [],
   "source": [
    "# Rearranging order of columns\n",
    "solar_columns = df.columns.tolist()\n",
    "solar_columns = solar_columns[:10] + solar_columns[-2:] + solar_columns[10:37]"
   ]
  },
  {
   "cell_type": "code",
   "execution_count": 48,
   "metadata": {},
   "outputs": [],
   "source": [
    "df = df[solar_columns]"
   ]
  },
  {
   "cell_type": "code",
   "execution_count": 49,
   "metadata": {},
   "outputs": [],
   "source": [
    "time_df = df.groupby('year')['adjusted_cost'].median()"
   ]
  },
  {
   "cell_type": "code",
   "execution_count": 51,
   "metadata": {},
   "outputs": [],
   "source": [
    "# df.groupby(['state', 'zipcode'])['adjusted_cost'].median()"
   ]
  },
  {
   "cell_type": "code",
   "execution_count": 52,
   "metadata": {},
   "outputs": [],
   "source": [
    "# df[['incentive_prog_names', 'installer', 'utility_clean']]\n",
    "# df.incentive_prog_names.value_counts()"
   ]
  },
  {
   "cell_type": "code",
   "execution_count": 53,
   "metadata": {},
   "outputs": [],
   "source": [
    "df_copy = df.copy()"
   ]
  },
  {
   "cell_type": "markdown",
   "metadata": {},
   "source": [
    "# NEW PICKLE"
   ]
  },
  {
   "cell_type": "code",
   "execution_count": 54,
   "metadata": {},
   "outputs": [],
   "source": [
    "with open(\"pv_data_2.pkl\", \"wb\") as f:\n",
    "    pickle.dump(df_copy, f)"
   ]
  },
  {
   "cell_type": "code",
   "execution_count": 55,
   "metadata": {},
   "outputs": [],
   "source": [
    "with open(\"pv_data_2.pkl\", \"rb\") as f:\n",
    "    df_copy = pickle.load(f)"
   ]
  },
  {
   "cell_type": "markdown",
   "metadata": {},
   "source": [
    "# Imputation of Missing Values in `annual_PV_prod` and `annual_insolation`"
   ]
  },
  {
   "cell_type": "code",
   "execution_count": 56,
   "metadata": {},
   "outputs": [
    {
     "data": {
      "text/plain": [
       "202568"
      ]
     },
     "execution_count": 56,
     "metadata": {},
     "output_type": "execute_result"
    }
   ],
   "source": [
    "df_copy.annual_PV_prod.isnull().sum()"
   ]
  },
  {
   "cell_type": "code",
   "execution_count": 57,
   "metadata": {},
   "outputs": [],
   "source": [
    "df_copy.drop(['cost', 'cost_per_watt'], axis=1, inplace=True)"
   ]
  },
  {
   "cell_type": "code",
   "execution_count": 58,
   "metadata": {},
   "outputs": [],
   "source": [
    "ann_pv = df_copy[['size_kw', 'annual_PV_prod']]\n",
    "#ann_pv"
   ]
  },
  {
   "cell_type": "code",
   "execution_count": 1,
   "metadata": {
    "scrolled": true
   },
   "outputs": [],
   "source": [
    "res = fancyimpute.MICE(init_fill_method='median').complete(ann_pv)"
   ]
  },
  {
   "cell_type": "code",
   "execution_count": 60,
   "metadata": {
    "scrolled": true
   },
   "outputs": [],
   "source": [
    "newdf = pd.DataFrame(res)\n",
    "annual_pv_imputed = pd.Series(newdf[1])"
   ]
  },
  {
   "cell_type": "code",
   "execution_count": 61,
   "metadata": {},
   "outputs": [],
   "source": [
    "df_copy['annual_pv_imputed'] = annual_pv_imputed"
   ]
  },
  {
   "cell_type": "code",
   "execution_count": 62,
   "metadata": {},
   "outputs": [],
   "source": [
    "df_copy['annual_pv_imputed'] = abs(df_copy['annual_pv_imputed'])"
   ]
  },
  {
   "cell_type": "code",
   "execution_count": 63,
   "metadata": {},
   "outputs": [
    {
     "data": {
      "text/plain": [
       "0"
      ]
     },
     "execution_count": 63,
     "metadata": {},
     "output_type": "execute_result"
    }
   ],
   "source": [
    "df_copy.annual_pv_imputed.isnull().sum()"
   ]
  },
  {
   "cell_type": "code",
   "execution_count": 64,
   "metadata": {},
   "outputs": [
    {
     "name": "stdout",
     "output_type": "stream",
     "text": [
      "Annual PV Produced Median (With NaNs): 8327.2\n",
      "Annual PV Produced Median (Imputed): 8305.638518498721\n"
     ]
    }
   ],
   "source": [
    "print(f\"Annual PV Produced Median (With NaNs): {df_copy.annual_PV_prod.median()}\")\n",
    "print(f\"Annual PV Produced Median (Imputed): {df_copy.annual_pv_imputed.median()}\")"
   ]
  },
  {
   "cell_type": "code",
   "execution_count": 2,
   "metadata": {},
   "outputs": [],
   "source": [
    "pd.set_option('max_rows', 100)\n",
    "df_copy[['zipcode', 'adjusted_cost', 'size_kw', 'annual_PV_prod', 'annual_pv_imputed']]"
   ]
  },
  {
   "cell_type": "code",
   "execution_count": 67,
   "metadata": {},
   "outputs": [],
   "source": [
    "# Dummy variables for the States \n",
    "state_dummies = pd.get_dummies(df_copy['state'])\n",
    "del state_dummies['CA']\n",
    "df_copy = pd.concat([df_copy, state_dummies], axis=1)"
   ]
  },
  {
   "cell_type": "code",
   "execution_count": 68,
   "metadata": {},
   "outputs": [],
   "source": [
    "#df_copy"
   ]
  },
  {
   "cell_type": "code",
   "execution_count": 69,
   "metadata": {
    "scrolled": true
   },
   "outputs": [
    {
     "data": {
      "text/plain": [
       "zipcode\n",
       "00000       1\n",
       "38606       1\n",
       "38611       1\n",
       "38673       1\n",
       "38677       1\n",
       "38801       1\n",
       "38866       1\n",
       "38916       1\n",
       "38930       1\n",
       "39057       1\n",
       "39074       1\n",
       "39090       1\n",
       "39094       1\n",
       "38583       1\n",
       "39110       1\n",
       "39145       1\n",
       "39149       1\n",
       "39170       1\n",
       "39232       1\n",
       "39305       1\n",
       "39307       1\n",
       "39341       1\n",
       "39464       1\n",
       "39482       1\n",
       "39648       1\n",
       "39667       1\n",
       "39701       1\n",
       "39111       1\n",
       "39730       1\n",
       "38542       1\n",
       "38476       1\n",
       "37135       1\n",
       "37153       1\n",
       "37167       1\n",
       "37205       1\n",
       "37321       1\n",
       "37356       1\n",
       "37367       1\n",
       "37391       1\n",
       "37397       1\n",
       "37405       1\n",
       "37421       1\n",
       "37642       1\n",
       "38483       1\n",
       "37650       1\n",
       "37774       1\n",
       "37777       1\n",
       "37814       1\n",
       "37821       1\n",
       "37862       1\n",
       "         ... \n",
       "95404    1226\n",
       "92234    1226\n",
       "92336    1228\n",
       "92270    1230\n",
       "95060    1237\n",
       "94566    1244\n",
       "92131    1248\n",
       "94558    1250\n",
       "93720    1258\n",
       "93722    1261\n",
       "92040    1284\n",
       "92129    1292\n",
       "85379    1309\n",
       "91350    1314\n",
       "92584    1380\n",
       "92262    1385\n",
       "95765    1395\n",
       "85326    1403\n",
       "95037    1407\n",
       "93727    1409\n",
       "94513    1417\n",
       "93551    1430\n",
       "92127    1433\n",
       "93065    1500\n",
       "94550    1514\n",
       "85086    1519\n",
       "92130    1533\n",
       "95120    1534\n",
       "95616    1543\n",
       "93314    1683\n",
       "85375    1688\n",
       "85396    1718\n",
       "93536    1734\n",
       "92028    1788\n",
       "95472    1791\n",
       "92880    1842\n",
       "92065    1870\n",
       "92563    1886\n",
       "93619    1905\n",
       "85338    1971\n",
       "92562    1977\n",
       "85383    1983\n",
       "92592    2009\n",
       "93611    2032\n",
       "93312    2130\n",
       "95648    2131\n",
       "95762    2149\n",
       "92064    2177\n",
       "85374    2260\n",
       "85395    2584\n",
       "Name: date_installed, Length: 11780, dtype: int64"
      ]
     },
     "execution_count": 69,
     "metadata": {},
     "output_type": "execute_result"
    }
   ],
   "source": [
    "zipcode_counts = df_copy.groupby('zipcode')['date_installed'].count()\n",
    "zipcode_counts[zipcode_counts > 0].sort_values()"
   ]
  },
  {
   "cell_type": "code",
   "execution_count": 70,
   "metadata": {},
   "outputs": [],
   "source": [
    "labels_to_drop = df_copy[(df_copy.year == 1983) | (df_copy.year == 1996) | (df_copy.year == 1995)].index.tolist()"
   ]
  },
  {
   "cell_type": "code",
   "execution_count": 71,
   "metadata": {},
   "outputs": [],
   "source": [
    "df_copy.drop(labels_to_drop, inplace=True)"
   ]
  },
  {
   "cell_type": "code",
   "execution_count": 72,
   "metadata": {},
   "outputs": [
    {
     "data": {
      "text/plain": [
       "2015    186427\n",
       "2012    103864\n",
       "2011     75802\n",
       "2013     75776\n",
       "2010     72482\n",
       "2014     71955\n",
       "2009     48416\n",
       "2008     28571\n",
       "2007     26656\n",
       "2006     16127\n",
       "2004     10019\n",
       "2005      9858\n",
       "2003      6637\n",
       "2002      5024\n",
       "2001      2722\n",
       "1999      1172\n",
       "2000       497\n",
       "2016       333\n",
       "2017       309\n",
       "1998        84\n",
       "1997        41\n",
       "2018        32\n",
       "Name: year, dtype: int64"
      ]
     },
     "execution_count": 72,
     "metadata": {},
     "output_type": "execute_result"
    }
   ],
   "source": [
    "df_copy.year.value_counts()"
   ]
  },
  {
   "cell_type": "markdown",
   "metadata": {},
   "source": [
    "# Encode `type` column \n",
    "\n",
    "### uir = 0 \n",
    "### pir = 1"
   ]
  },
  {
   "cell_type": "code",
   "execution_count": 73,
   "metadata": {},
   "outputs": [],
   "source": [
    "df_copy.type.replace('uir', 0, inplace=True)\n",
    "df_copy.type.replace('pir', 1, inplace=True)"
   ]
  },
  {
   "cell_type": "code",
   "execution_count": 75,
   "metadata": {
    "scrolled": true
   },
   "outputs": [],
   "source": [
    "# df_copy.corr()"
   ]
  },
  {
   "cell_type": "markdown",
   "metadata": {},
   "source": [
    "# Updated Pickle"
   ]
  },
  {
   "cell_type": "code",
   "execution_count": 77,
   "metadata": {},
   "outputs": [],
   "source": [
    " with open(\"pv_data_2.pkl\", \"wb\") as f:\n",
    "    pickle.dump(df_copy, f)"
   ]
  },
  {
   "cell_type": "code",
   "execution_count": 78,
   "metadata": {},
   "outputs": [],
   "source": [
    "with open(\"pv_data_2.pkl\", \"rb\") as f:\n",
    "    df_copy = pickle.load(f)"
   ]
  }
 ],
 "metadata": {
  "kernelspec": {
   "display_name": "Python 3",
   "language": "python",
   "name": "python3"
  },
  "language_info": {
   "codemirror_mode": {
    "name": "ipython",
    "version": 3
   },
   "file_extension": ".py",
   "mimetype": "text/x-python",
   "name": "python",
   "nbconvert_exporter": "python",
   "pygments_lexer": "ipython3",
   "version": "3.6.4"
  }
 },
 "nbformat": 4,
 "nbformat_minor": 2
}
